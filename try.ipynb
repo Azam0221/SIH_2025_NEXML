{
 "cells": [
  {
   "cell_type": "code",
   "execution_count": 14,
   "id": "4479e339",
   "metadata": {},
   "outputs": [],
   "source": [
    "import json"
   ]
  },
  {
   "cell_type": "code",
   "execution_count": 15,
   "id": "65c6c31d",
   "metadata": {},
   "outputs": [],
   "source": [
    "with open(r'data\\ragas_eval_filled.json', 'r') as f:\n",
    "    data = json.load(f)"
   ]
  },
  {
   "cell_type": "code",
   "execution_count": 18,
   "id": "e42c6ca1",
   "metadata": {},
   "outputs": [
    {
     "data": {
      "text/plain": [
       "[{'question': 'What methodology does the project use to improve coal quality in the advanced dense medium project?',\n",
       "  'answer': \"According to the provided proposals, there are two projects related to the development of advanced dense medium for quality improvement in Indian coal. \\n\\nThe first project, led by Dr. Amit Rao from IIT Kharagpur (Research Area: Rock Mechanics), combines traditional methods with modern AI techniques for comprehensive analysis and implementation. \\n\\nThe second project, led by Prof. Rahul Patel from NIT Warangal (Research Area: Geotechnical Engineering), uses cutting-edge automation and computational methods for comprehensive analysis and implementation.\\n\\nIt appears that there are two different methodologies being used in these projects. I don't have more specific details about how these methodologies are applied.\",\n",
       "  'contexts': ['Proposal Title: Development of Advanced Dense Medium for Quality Improvement in Indian Coal\\nPrincipal Investigator: Dr. Amit Rao\\nInstitution: IIT Kharagpur\\nResearch Area: Rock Mechanics\\nKeywords: Rock Mechanics; Advanced; Innovation; Applied Research\\nAbstract: This research project aims to develop an innovative approach to development of advanced dense medium for quality improvement in indian coal. The methodology involves by combining traditional methods with modern AI techniques for comprehensive analysis and implementation. Expected outcomes include 30-40% improvement in productivity and enhanced safety measures.',\n",
       "   'Proposal Title: Development of Advanced Dense Medium for Efficiency Improvement in Indian Coal\\nPrincipal Investigator: Prof. Rahul Patel\\nInstitution: NIT Warangal\\nResearch Area: Geotechnical Engineering\\nKeywords: Geotechnical Engineering; Advanced; Innovation; Large-Scale\\nAbstract: This research project aims to develop an innovative approach to development of advanced dense medium for efficiency improvement in indian coal. The methodology involves using cutting-edge automation and computational methods for comprehensive analysis and implementation. Expected outcomes include 30-40% improvement in productivity and enhanced safety measures.'],\n",
       "  'ground_truth': 'Combining traditional methods with modern AI techniques.'},\n",
       " {'question': 'What productivity improvement is expected from the dense medium quality improvement project?',\n",
       "  'answer': 'According to the proposal abstracts provided, both projects (Development of Advanced Dense Medium for Quality Improvement in Indian Coal and Innovative Dense Medium Technology for Sustainable Quality Improvement) expect a 30-40% improvement in productivity as a result of the dense medium quality improvement project.',\n",
       "  'contexts': ['Proposal Title: Development of Advanced Dense Medium for Quality Improvement in Indian Coal\\nPrincipal Investigator: Dr. Amit Rao\\nInstitution: IIT Kharagpur\\nResearch Area: Rock Mechanics\\nKeywords: Rock Mechanics; Advanced; Innovation; Applied Research\\nAbstract: This research project aims to develop an innovative approach to development of advanced dense medium for quality improvement in indian coal. The methodology involves by combining traditional methods with modern AI techniques for comprehensive analysis and implementation. Expected outcomes include 30-40% improvement in productivity and enhanced safety measures.',\n",
       "   'Proposal Title: Innovative Dense Medium Technology for Sustainable Quality Improvement\\nPrincipal Investigator: Prof. Meera Das\\nInstitution: IIT Delhi\\nResearch Area: Air Quality Control\\nKeywords: Air Quality Control; Medium; Innovation; Applied Research\\nAbstract: The proposed study focuses on developing a novel methodology to innovative dense medium technology for sustainable quality improvement. The methodology involves through integration of IoT technologies and data analytics for comprehensive analysis and implementation. Expected outcomes include 30-40% improvement in productivity and enhanced safety measures.'],\n",
       "  'ground_truth': 'An expected 30–40% improvement in productivity with enhanced safety measures.'},\n",
       " {'question': 'What are the duration and total budget for the advanced dense medium project?',\n",
       "  'answer': \"I don't know the duration and total budget for the advanced dense medium project. The provided context only includes a brief overview of the proposal title, principal investigator, institution, research area, keywords, and abstract, but does not specify the duration and budget of the project.\",\n",
       "  'contexts': ['Proposal Title: Development of Advanced Dense Medium for Efficiency Improvement in Indian Coal\\nPrincipal Investigator: Prof. Rahul Patel\\nInstitution: NIT Warangal\\nResearch Area: Geotechnical Engineering\\nKeywords: Geotechnical Engineering; Advanced; Innovation; Large-Scale\\nAbstract: This research project aims to develop an innovative approach to development of advanced dense medium for efficiency improvement in indian coal. The methodology involves using cutting-edge automation and computational methods for comprehensive analysis and implementation. Expected outcomes include 30-40% improvement in productivity and enhanced safety measures.',\n",
       "   'Proposal Title: Development of Advanced Dense Medium for Efficiency Improvement in Indian Coal\\nPrincipal Investigator: Dr. Lakshmi Mehta\\nInstitution: IISc Bangalore\\nResearch Area: Explosives Technology\\nKeywords: Explosives Technology; Advanced; Innovation; Large-Scale\\nAbstract: This project aims to address critical challenges to development of advanced dense medium for efficiency improvement in indian coal. The methodology involves utilizing machine learning algorithms and advanced sensors for comprehensive analysis and implementation. This will significantly improve operational efficiency and reduce costs for CIL subsidiaries.'],\n",
       "  'ground_truth': '18 months and 4,895,969.'},\n",
       " {'question': 'Which process does the project aim to improve in the high-ash coal efficiency proposal?',\n",
       "  'answer': 'The project aims to improve the flotation process for high-ash coal efficiency.',\n",
       "  'contexts': ['Proposal Title: Novel Flotation Approach for Efficiency Improvement of High-Ash Coal\\nPrincipal Investigator: Prof. Neha Rao\\nInstitution: CSIR-CIMFR\\nResearch Area: Mineral Processing\\nKeywords: Mineral Processing; Approach; Innovation; Applied Research\\nAbstract: This research project aims to develop an innovative approach to novel flotation approach for efficiency improvement of high-ash coal. The methodology involves by combining traditional methods with modern AI techniques for comprehensive analysis and implementation. This will significantly improve operational efficiency and reduce costs for CIL subsidiaries.',\n",
       "   'Proposal Title: Novel Dense Medium Approach for Efficiency Improvement of High-Ash Coal\\nPrincipal Investigator: Dr. Rahul Desai\\nInstitution: IIT Dhanbad\\nResearch Area: Renewable Energy\\nKeywords: Renewable Energy; Medium; Innovation; Applied Research\\nAbstract: The research proposes an advanced solution to novel dense medium approach for efficiency improvement of high-ash coal. The methodology involves by combining traditional methods with modern AI techniques for comprehensive analysis and implementation. This will significantly improve operational efficiency and reduce costs for CIL subsidiaries.'],\n",
       "  'ground_truth': 'Flotation for efficiency improvement of high-ash coal.'},\n",
       " {'question': 'What funding source and duration are specified for the novel flotation approach project?',\n",
       "  'answer': 'I don\\'t know. The provided information does not mention the funding source or duration for the \"Novel Flotation Approach for Efficiency Improvement of High-Ash Coal\" project.',\n",
       "  'contexts': ['Proposal Title: Novel Flotation Approach for Efficiency Improvement of High-Ash Coal\\nPrincipal Investigator: Prof. Neha Rao\\nInstitution: CSIR-CIMFR\\nResearch Area: Mineral Processing\\nKeywords: Mineral Processing; Approach; Innovation; Applied Research\\nAbstract: This research project aims to develop an innovative approach to novel flotation approach for efficiency improvement of high-ash coal. The methodology involves by combining traditional methods with modern AI techniques for comprehensive analysis and implementation. This will significantly improve operational efficiency and reduce costs for CIL subsidiaries.',\n",
       "   'Proposal Title: Development of Advanced Flotation for Waste Minimization in Indian Coal\\nPrincipal Investigator: Dr. Suresh Kumar\\nInstitution: IIT Delhi\\nResearch Area: Mineral Processing\\nKeywords: Mineral Processing; Advanced; Innovation; Applied Research\\nAbstract: The proposed study focuses on developing a novel methodology to development of advanced flotation for waste minimization in indian coal. The methodology involves using cutting-edge automation and computational methods for comprehensive analysis and implementation. Expected outcomes include 30-40% improvement in productivity and enhanced safety measures.'],\n",
       "  'ground_truth': 'CIL and 18 months.'},\n",
       " {'question': 'What operational outcome is anticipated for CIL subsidiaries in the flotation approach project?',\n",
       "  'answer': 'According to the abstract of the \"Novel Flotation Approach for Efficiency Improvement of High-Ash Coal\" project, the anticipated operational outcome for CIL subsidiaries is a significant improvement in operational efficiency and a reduction in costs.',\n",
       "  'contexts': ['Proposal Title: Novel Flotation Approach for Efficiency Improvement of High-Ash Coal\\nPrincipal Investigator: Prof. Neha Rao\\nInstitution: CSIR-CIMFR\\nResearch Area: Mineral Processing\\nKeywords: Mineral Processing; Approach; Innovation; Applied Research\\nAbstract: This research project aims to develop an innovative approach to novel flotation approach for efficiency improvement of high-ash coal. The methodology involves by combining traditional methods with modern AI techniques for comprehensive analysis and implementation. This will significantly improve operational efficiency and reduce costs for CIL subsidiaries.',\n",
       "   'Proposal Title: Innovative Flotation Technology for Sustainable Waste Minimization\\nPrincipal Investigator: Dr. Kiran Pillai\\nInstitution: ISM Dhanbad\\nResearch Area: Mine Planning\\nKeywords: Mine Planning; Technology; Innovation; Applied Research\\nAbstract: This research project aims to develop an innovative approach to innovative flotation technology for sustainable waste minimization. The methodology involves utilizing machine learning algorithms and advanced sensors for comprehensive analysis and implementation. This will significantly improve operational efficiency and reduce costs for CIL subsidiaries.'],\n",
       "  'ground_truth': 'Significantly improved operational efficiency and reduced costs for CIL subsidiaries.'},\n",
       " {'question': 'Which classification method is targeted in the high-ash coal efficiency project led by Prof. Suresh Mehta?',\n",
       "  'answer': 'The classification method targeted in the high-ash coal efficiency project led by Prof. Suresh Mehta is an \"air classification\" approach.',\n",
       "  'contexts': ['Proposal Title: Novel Air Classification Approach for Efficiency Improvement of High-Ash Coal\\nPrincipal Investigator: Prof. Suresh Mehta\\nInstitution: CSIR-CMRI\\nResearch Area: Mine Reclamation\\nKeywords: Mine Reclamation; Classification; Innovation; Applied Research\\nAbstract: The research proposes an advanced solution to novel air classification approach for efficiency improvement of high-ash coal. The methodology involves through integration of IoT technologies and data analytics for comprehensive analysis and implementation. This will significantly improve operational efficiency and reduce costs for CIL subsidiaries.',\n",
       "   'Proposal Title: Development of Advanced Air Classification for Grade Enhancement in Indian Coal\\nPrincipal Investigator: Prof. Deepa Mehta\\nInstitution: CSIR-CIMFR\\nResearch Area: Rock Mechanics\\nKeywords: Rock Mechanics; Advanced; Innovation; Applied Research\\nAbstract: This research project aims to develop an innovative approach to development of advanced air classification for grade enhancement in indian coal. The methodology involves using cutting-edge automation and computational methods for comprehensive analysis and implementation. Results will contribute to digital transformation of the Indian coal sector.'],\n",
       "  'ground_truth': 'Air classification for efficiency improvement of high-ash coal.'},\n",
       " {'question': 'What is the primary methodology used in the air classification project for high-ash coal?',\n",
       "  'answer': \"Based on the provided context, the primary methodology used in the air classification project for high-ash coal, as proposed by Prof. Suresh Mehta's project, involves the integration of IoT technologies and data analytics for comprehensive analysis and implementation. This suggests a data-driven approach that utilizes cutting-edge technologies to improve operational efficiency and reduce costs.\",\n",
       "  'contexts': ['Proposal Title: Novel Air Classification Approach for Efficiency Improvement of High-Ash Coal\\nPrincipal Investigator: Prof. Suresh Mehta\\nInstitution: CSIR-CMRI\\nResearch Area: Mine Reclamation\\nKeywords: Mine Reclamation; Classification; Innovation; Applied Research\\nAbstract: The research proposes an advanced solution to novel air classification approach for efficiency improvement of high-ash coal. The methodology involves through integration of IoT technologies and data analytics for comprehensive analysis and implementation. This will significantly improve operational efficiency and reduce costs for CIL subsidiaries.',\n",
       "   'Proposal Title: Development of Advanced Air Classification for Ash Reduction in Indian Coal\\nPrincipal Investigator: Prof. Anjali Verma\\nInstitution: IIT Delhi\\nResearch Area: Mine Planning\\nKeywords: Mine Planning; Advanced; Innovation; Applied Research\\nAbstract: This project aims to address critical challenges to development of advanced air classification for ash reduction in indian coal. The methodology involves using cutting-edge automation and computational methods for comprehensive analysis and implementation. Results will contribute to digital transformation of the Indian coal sector.'],\n",
       "  'ground_truth': 'Integration of IoT technologies and data analytics.'},\n",
       " {'question': 'Who is the PI and which institution leads the air classification project for high-ash coal?',\n",
       "  'answer': 'The PI for the air classification project for high-ash coal is Prof. Suresh Mehta, and the institution leading this project is CSIR-CMRI.',\n",
       "  'contexts': ['Proposal Title: Novel Air Classification Approach for Efficiency Improvement of High-Ash Coal\\nPrincipal Investigator: Prof. Suresh Mehta\\nInstitution: CSIR-CMRI\\nResearch Area: Mine Reclamation\\nKeywords: Mine Reclamation; Classification; Innovation; Applied Research\\nAbstract: The research proposes an advanced solution to novel air classification approach for efficiency improvement of high-ash coal. The methodology involves through integration of IoT technologies and data analytics for comprehensive analysis and implementation. This will significantly improve operational efficiency and reduce costs for CIL subsidiaries.',\n",
       "   'Proposal Title: Development of Advanced Air Classification for Ash Reduction in Indian Coal\\nPrincipal Investigator: Prof. Anjali Verma\\nInstitution: IIT Delhi\\nResearch Area: Mine Planning\\nKeywords: Mine Planning; Advanced; Innovation; Applied Research\\nAbstract: This project aims to address critical challenges to development of advanced air classification for ash reduction in indian coal. The methodology involves using cutting-edge automation and computational methods for comprehensive analysis and implementation. Results will contribute to digital transformation of the Indian coal sector.'],\n",
       "  'ground_truth': 'Prof. Suresh Mehta at CSIR-CMRI.'},\n",
       " {'question': 'What separation technique is being developed to improve coal quality in the Anna University proposal?',\n",
       "  'answer': 'The separation technique being developed in the Anna University proposal to improve coal quality is Advanced Gravity Separation.',\n",
       "  'contexts': ['Proposal Title: Development of Advanced Gravity Separation for Quality Improvement in Indian Coal\\nPrincipal Investigator: Prof. Manoj Iyer\\nInstitution: Anna University\\nResearch Area: Air Quality Control\\nKeywords: Air Quality Control; Advanced; Innovation; Applied Research\\nAbstract: The proposed study focuses on developing a novel methodology to development of advanced gravity separation for quality improvement in indian coal. The methodology involves through integration of IoT technologies and data analytics for comprehensive analysis and implementation. Expected outcomes include 30-40% improvement in productivity and enhanced safety measures.',\n",
       "   'Proposal Title: Novel Gravity Separation Approach for Quality Improvement of High-Ash Coal\\nPrincipal Investigator: Prof. Lakshmi Patel\\nInstitution: IISc Bangalore\\nResearch Area: Carbon Capture\\nKeywords: Carbon Capture; Separation; Innovation; Applied Research\\nAbstract: The proposed study focuses on developing a novel methodology to novel gravity separation approach for quality improvement of high-ash coal. The methodology involves through integration of IoT technologies and data analytics for comprehensive analysis and implementation. Expected outcomes include 30-40% improvement in productivity and enhanced safety measures.'],\n",
       "  'ground_truth': 'Advanced gravity separation for coal quality improvement.'},\n",
       " {'question': 'What productivity and safety outcomes are expected from the gravity separation project?',\n",
       "  'answer': 'According to the provided proposals, the expected outcomes of the gravity separation project are:\\n\\n1. A 30-40% improvement in productivity.\\n2. Enhanced safety measures.',\n",
       "  'contexts': ['Proposal Title: Novel Gravity Separation Approach for Grade Enhancement of High-Ash Coal\\nPrincipal Investigator: Dr. Lakshmi Gupta\\nInstitution: IIT Madras\\nResearch Area: Rock Mechanics\\nKeywords: Rock Mechanics; Separation; Innovation; Applied Research\\nAbstract: This research project aims to develop an innovative approach to novel gravity separation approach for grade enhancement of high-ash coal. The methodology involves utilizing machine learning algorithms and advanced sensors for comprehensive analysis and implementation. Expected outcomes include 30-40% improvement in productivity and enhanced safety measures.',\n",
       "   'Proposal Title: Novel Gravity Separation Approach for Quality Improvement of High-Ash Coal\\nPrincipal Investigator: Prof. Lakshmi Patel\\nInstitution: IISc Bangalore\\nResearch Area: Carbon Capture\\nKeywords: Carbon Capture; Separation; Innovation; Applied Research\\nAbstract: The proposed study focuses on developing a novel methodology to novel gravity separation approach for quality improvement of high-ash coal. The methodology involves through integration of IoT technologies and data analytics for comprehensive analysis and implementation. Expected outcomes include 30-40% improvement in productivity and enhanced safety measures.'],\n",
       "  'ground_truth': 'A 30–40% improvement in productivity and enhanced safety measures.'},\n",
       " {'question': 'Which institution and research area anchor the gravity separation proposal?',\n",
       "  'answer': 'The institution and research area that anchor the gravity separation proposal are not singular, as there are two proposals provided. However, I can provide the institutions and research areas for both proposals.\\n\\nFor the first proposal \"Optimization of Gravity Separation Process for Quality Improvement,\" the institution is NIT Rourkela and the research area is Mineral Processing.\\n\\nFor the second proposal \"Innovative Gravity Separation Technology for Sustainable Quality Improvement,\" the institution is IIT Bombay and the research area is Coal Beneficiation.',\n",
       "  'contexts': ['Proposal Title: Optimization of Gravity Separation Process for Quality Improvement\\nPrincipal Investigator: Dr. Divya Pillai\\nInstitution: NIT Rourkela\\nResearch Area: Mineral Processing\\nKeywords: Mineral Processing; Gravity; Innovation; Applied Research\\nAbstract: The research proposes an advanced solution to optimization of gravity separation process for quality improvement. The methodology involves through integration of IoT technologies and data analytics for comprehensive analysis and implementation. This will significantly improve operational efficiency and reduce costs for CIL subsidiaries.',\n",
       "   'Proposal Title: Innovative Gravity Separation Technology for Sustainable Quality Improvement\\nPrincipal Investigator: Dr. Kiran Gupta\\nInstitution: IIT Bombay\\nResearch Area: Coal Beneficiation\\nKeywords: Coal Beneficiation; Separation; Innovation; Large-Scale\\nAbstract: The research proposes an advanced solution to innovative gravity separation technology for sustainable quality improvement. The methodology involves utilizing machine learning algorithms and advanced sensors for comprehensive analysis and implementation. Expected outcomes include 30-40% improvement in productivity and enhanced safety measures.'],\n",
       "  'ground_truth': 'Anna University in Air Quality Control.'},\n",
       " {'question': 'Which process is being optimized in the IISc Bangalore proposal focused on quality improvement?',\n",
       "  'answer': 'According to the provided context, the process being optimized in the IISc Bangalore proposal (led by Dr. Manoj Mehta) focused on quality improvement is the \"Flotation Process\" for the \"Mineral Processing\" area.',\n",
       "  'contexts': ['Proposal Title: Optimization of Flotation Process for Quality Improvement\\nPrincipal Investigator: Dr. Manoj Mehta\\nInstitution: IISc Bangalore\\nResearch Area: Mineral Processing\\nKeywords: Mineral Processing; Flotation; Innovation; Applied Research\\nAbstract: The proposed study focuses on developing a novel methodology to optimization of flotation process for quality improvement. The methodology involves using cutting-edge automation and computational methods for comprehensive analysis and implementation. Results will contribute to digital transformation of the Indian coal sector.',\n",
       "   'Proposal Title: Optimization of Dry Cleaning Process for Quality Improvement\\nPrincipal Investigator: Dr. Suresh Kumar\\nInstitution: NIT Durgapur\\nResearch Area: Water Management\\nKeywords: Water Management; Dry; Innovation; Large-Scale\\nAbstract: This project aims to address critical challenges to optimization of dry cleaning process for quality improvement. The methodology involves by combining traditional methods with modern AI techniques for comprehensive analysis and implementation. Results will contribute to digital transformation of the Indian coal sector.'],\n",
       "  'ground_truth': 'The flotation process for quality improvement.'},\n",
       " {'question': 'What methodology is used in the flotation process optimization project?',\n",
       "  'answer': 'According to the context provided, both research projects involve using cutting-edge automation and computational methods for comprehensive analysis and implementation in their methodology for optimization of the flotation process.',\n",
       "  'contexts': ['Proposal Title: Optimization of Flotation Process for Quality Improvement\\nPrincipal Investigator: Dr. Manoj Mehta\\nInstitution: IISc Bangalore\\nResearch Area: Mineral Processing\\nKeywords: Mineral Processing; Flotation; Innovation; Applied Research\\nAbstract: The proposed study focuses on developing a novel methodology to optimization of flotation process for quality improvement. The methodology involves using cutting-edge automation and computational methods for comprehensive analysis and implementation. Results will contribute to digital transformation of the Indian coal sector.',\n",
       "   'Proposal Title: Optimization of Flotation Process for Grade Enhancement\\nPrincipal Investigator: Prof. Sanjay Iyer\\nInstitution: NIT Durgapur\\nResearch Area: Drone Technology\\nKeywords: Drone Technology; Flotation; Innovation; Applied Research\\nAbstract: The research proposes an advanced solution to optimization of flotation process for grade enhancement. The methodology involves using cutting-edge automation and computational methods for comprehensive analysis and implementation. Expected outcomes include 30-40% improvement in productivity and enhanced safety measures.'],\n",
       "  'ground_truth': 'Cutting-edge automation and computational methods.'},\n",
       " {'question': 'What is the total budget allocated to the flotation quality improvement project?',\n",
       "  'answer': \"I don't know the total budget allocated to the flotation quality improvement project as this information is not provided in the given context.\",\n",
       "  'contexts': ['Proposal Title: Development of Advanced Flotation for Quality Improvement in Indian Coal\\nPrincipal Investigator: Prof. Rahul Sharma\\nInstitution: ISM Dhanbad\\nResearch Area: Renewable Energy\\nKeywords: Renewable Energy; Advanced; Innovation; Applied Research\\nAbstract: The proposed study focuses on developing a novel methodology to development of advanced flotation for quality improvement in indian coal. The methodology involves through integration of IoT technologies and data analytics for comprehensive analysis and implementation. Results will contribute to digital transformation of the Indian coal sector.',\n",
       "   'Proposal Title: Novel Flotation Approach for Quality Improvement of High-Ash Coal\\nPrincipal Investigator: Dr. Ravi Gupta\\nInstitution: BIT Mesra\\nResearch Area: Drone Technology\\nKeywords: Drone Technology; Approach; Innovation; Applied Research\\nAbstract: This research project aims to develop an innovative approach to novel flotation approach for quality improvement of high-ash coal. The methodology involves through integration of IoT technologies and data analytics for comprehensive analysis and implementation. Results will contribute to digital transformation of the Indian coal sector.'],\n",
       "  'ground_truth': '4,071,278.'}]"
      ]
     },
     "execution_count": 18,
     "metadata": {},
     "output_type": "execute_result"
    }
   ],
   "source": [
    "data[:15]"
   ]
  },
  {
   "cell_type": "code",
   "execution_count": 16,
   "id": "f14e937b",
   "metadata": {},
   "outputs": [],
   "source": [
    "c=0\n",
    "for item in data:\n",
    "    c +=1"
   ]
  },
  {
   "cell_type": "code",
   "execution_count": 17,
   "id": "8d2d6417",
   "metadata": {},
   "outputs": [
    {
     "data": {
      "text/plain": [
       "45"
      ]
     },
     "execution_count": 17,
     "metadata": {},
     "output_type": "execute_result"
    }
   ],
   "source": [
    "c"
   ]
  },
  {
   "cell_type": "code",
   "execution_count": 10,
   "id": "a8be8273",
   "metadata": {},
   "outputs": [],
   "source": [
    "with open('ragas_eval_filled.json', 'w') as file:\n",
    "    json.dump(data, file, indent=4 )"
   ]
  },
  {
   "cell_type": "code",
   "execution_count": null,
   "id": "e0c5b7a5",
   "metadata": {},
   "outputs": [],
   "source": []
  }
 ],
 "metadata": {
  "kernelspec": {
   "display_name": "cuda-env-torch",
   "language": "python",
   "name": "python3"
  },
  "language_info": {
   "codemirror_mode": {
    "name": "ipython",
    "version": 3
   },
   "file_extension": ".py",
   "mimetype": "text/x-python",
   "name": "python",
   "nbconvert_exporter": "python",
   "pygments_lexer": "ipython3",
   "version": "3.10.18"
  }
 },
 "nbformat": 4,
 "nbformat_minor": 5
}
